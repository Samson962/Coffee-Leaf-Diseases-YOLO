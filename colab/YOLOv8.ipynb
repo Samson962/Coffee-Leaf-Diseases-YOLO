{
  "cells": [
    {
      "cell_type": "markdown",
      "metadata": {
        "id": "beieXynuoBfs"
      },
      "source": [
        "# Installation"
      ]
    },
    {
      "cell_type": "code",
      "execution_count": null,
      "metadata": {
        "id": "7dAd-KNMn7YJ"
      },
      "outputs": [],
      "source": [
        "# Mount Google Drive\n",
        "from google.colab import drive\n",
        "drive.mount('/content/gdrive')"
      ]
    },
    {
      "cell_type": "code",
      "execution_count": null,
      "metadata": {
        "id": "CVTwaJMmoVFC"
      },
      "outputs": [],
      "source": [
        "# Access Google Drive Folder\n",
        "import os \n",
        "os.chdir(\"gdrive/MyDrive\")"
      ]
    },
    {
      "cell_type": "code",
      "execution_count": null,
      "metadata": {
        "id": "5mRwERHHoVK_"
      },
      "outputs": [],
      "source": [
        "# Create YOLOv8 root folder\n",
        "!mkdir yolov8"
      ]
    },
    {
      "cell_type": "code",
      "execution_count": null,
      "metadata": {
        "id": "0T0AEwhNSdT8"
      },
      "outputs": [],
      "source": [
        "# Go to YOLOv8 root folder\n",
        "%cd yolov8"
      ]
    },
    {
      "cell_type": "code",
      "execution_count": null,
      "metadata": {
        "id": "R91R6FEcodx8"
      },
      "outputs": [],
      "source": [
        "# Install YOLOv8\n",
        "%pip install ultralytics\n",
        "\n",
        "import ultralytics\n",
        "ultralytics.checks()"
      ]
    },
    {
      "cell_type": "markdown",
      "metadata": {
        "id": "f35M6kN_XvkA"
      },
      "source": [
        "## Test Installation"
      ]
    },
    {
      "cell_type": "code",
      "execution_count": null,
      "metadata": {
        "id": "GQg1u8RNotq4"
      },
      "outputs": [],
      "source": [
        "# Download YOLOv8 models\n",
        "!wget https://github.com/ultralytics/assets/releases/download/v0.0.0/yolov8l.pt"
      ]
    },
    {
      "cell_type": "code",
      "execution_count": null,
      "metadata": {
        "id": "XTE0A2gXo9Qw"
      },
      "outputs": [],
      "source": [
        "# Detect Object on the image\n",
        "!yolo predict model=yolov8l.pt source=\"https://ultralytics.com/images/bus.jpg\" save=True"
      ]
    },
    {
      "cell_type": "markdown",
      "metadata": {
        "id": "NvjHQ5W2RXus"
      },
      "source": [
        "# Detection"
      ]
    },
    {
      "cell_type": "markdown",
      "metadata": {
        "id": "NdTUkdKFMIZT"
      },
      "source": [
        "## Mount Google Drive and Install YOLOv8"
      ]
    },
    {
      "cell_type": "code",
      "execution_count": null,
      "metadata": {
        "id": "7EIK8yn0ML3i"
      },
      "outputs": [],
      "source": [
        "# Mount Google Drive\n",
        "from google.colab import drive\n",
        "drive.mount('/content/gdrive')"
      ]
    },
    {
      "cell_type": "code",
      "execution_count": null,
      "metadata": {
        "id": "b7nHkukwMNsA"
      },
      "outputs": [],
      "source": [
        "# Access YOLOv8 root folder\n",
        "import os \n",
        "os.chdir(\"gdrive/MyDrive/yolov8\")"
      ]
    },
    {
      "cell_type": "code",
      "execution_count": null,
      "metadata": {
        "id": "Ji6dfh5WMPHy"
      },
      "outputs": [],
      "source": [
        "# Install YOLOv8\n",
        "%pip install ultralytics\n",
        "\n",
        "import ultralytics\n",
        "ultralytics.checks()"
      ]
    },
    {
      "cell_type": "markdown",
      "metadata": {
        "id": "yNan4V34MRga"
      },
      "source": [
        "## Inference Folder"
      ]
    },
    {
      "cell_type": "code",
      "execution_count": null,
      "metadata": {
        "id": "DbmjRH4KTOov"
      },
      "outputs": [],
      "source": [
        "# Create inference folder\n",
        "!mkdir inference"
      ]
    },
    {
      "cell_type": "markdown",
      "metadata": {
        "id": "e2Gx_O-URjsy"
      },
      "source": [
        "## Detection on Images"
      ]
    },
    {
      "cell_type": "code",
      "execution_count": null,
      "metadata": {
        "id": "1vOZLFKuqSVF"
      },
      "outputs": [],
      "source": [
        "# Function to show Image\n",
        "import matplotlib.pyplot as plt\n",
        "import matplotlib.image as mpimg\n",
        "\n",
        "def showImage(path):\n",
        "  img = mpimg.imread(path)\n",
        "  plt.figure(figsize=(20,20))\n",
        "  plt.axis(\"off\")\n",
        "  plt.imshow(img)\n",
        "  plt.show()\n"
      ]
    },
    {
      "cell_type": "code",
      "execution_count": null,
      "metadata": {
        "id": "eeysa2U-anim"
      },
      "outputs": [],
      "source": [
        "# Download image zidane.jpg\n",
        "!wget https://raw.githubusercontent.com/ultralytics/ultralytics/main/ultralytics/assets/zidane.jpg"
      ]
    },
    {
      "cell_type": "code",
      "execution_count": null,
      "metadata": {
        "id": "b225nFEYanlj"
      },
      "outputs": [],
      "source": [
        "# Download image horses.jpg\n",
        "!wget https://raw.githubusercontent.com/WongKinYiu/yolov7/main/inference/images/horses.jpg"
      ]
    },
    {
      "cell_type": "code",
      "execution_count": null,
      "metadata": {
        "id": "KKW_KwRbanqt"
      },
      "outputs": [],
      "source": [
        "# Move images to inference folder\n",
        "!mv zidane.jpg horses.jpg inference/"
      ]
    },
    {
      "cell_type": "code",
      "execution_count": null,
      "metadata": {
        "id": "zvquKj_bcH0c"
      },
      "outputs": [],
      "source": [
        "# Detect Object in Single Image\n",
        "!yolo predict model=yolov8l.pt source=\"inference/zidane.jpg\" save=True"
      ]
    },
    {
      "cell_type": "code",
      "execution_count": null,
      "metadata": {
        "id": "Q3B1HgAZDLRG"
      },
      "outputs": [],
      "source": [
        "# Show Detection Result\n",
        "%matplotlib inline\n",
        "showImage(\"runs/detect/predict2/zidane.jpg\")"
      ]
    },
    {
      "cell_type": "code",
      "execution_count": null,
      "metadata": {
        "id": "oRlRlKbhcOfd"
      },
      "outputs": [],
      "source": [
        "# Detect Object in Multiple Images in a Folder\n",
        "!yolo predict model=yolov8l.pt source=\"inference/\" save=True"
      ]
    },
    {
      "cell_type": "code",
      "execution_count": null,
      "metadata": {
        "id": "XQr3L-6dcHBX"
      },
      "outputs": [],
      "source": [
        "# Show Detection Result\n",
        "%matplotlib inline\n",
        "showImage(\"runs/detect/predict3/horses.jpg\")"
      ]
    },
    {
      "cell_type": "markdown",
      "metadata": {
        "id": "5UI6FUbZRngC"
      },
      "source": [
        "## Detection on Video"
      ]
    },
    {
      "cell_type": "code",
      "execution_count": null,
      "metadata": {
        "id": "WnEtCIGrRs_2"
      },
      "outputs": [],
      "source": [
        "# Download video basketball.mp4\n",
        "!gdown https://drive.google.com/uc?id=13-ih2m1EUCWLBmVtTBuJxalCTNKkfRlm"
      ]
    },
    {
      "cell_type": "code",
      "execution_count": null,
      "metadata": {
        "id": "m6IVd4c3lZ5A"
      },
      "outputs": [],
      "source": [
        "# Move video to inference folder\n",
        "!mv basketball.mp4 inference/"
      ]
    },
    {
      "cell_type": "code",
      "execution_count": null,
      "metadata": {
        "id": "JxABh0HhnVoC"
      },
      "outputs": [],
      "source": [
        "# Detect Object on the video\n",
        "!yolo predict model=yolov8l.pt source=\"inference/basketball.mp4\" save=True"
      ]
    },
    {
      "cell_type": "markdown",
      "metadata": {
        "id": "ZKXD8j7cI3m8"
      },
      "source": [
        "# Training"
      ]
    },
    {
      "cell_type": "markdown",
      "metadata": {
        "id": "-AlgHwX4RJki"
      },
      "source": [
        "## Mount Google Drive and Install YOLOv8"
      ]
    },
    {
      "cell_type": "code",
      "execution_count": null,
      "metadata": {
        "id": "StEPN1s1LSab"
      },
      "outputs": [],
      "source": [
        "# Mount Google Drive\n",
        "from google.colab import drive\n",
        "drive.mount('/content/gdrive')"
      ]
    },
    {
      "cell_type": "code",
      "execution_count": null,
      "metadata": {
        "id": "NuIS4LrMLSnd"
      },
      "outputs": [],
      "source": [
        "# Access YOLOv8 root folder\n",
        "import os \n",
        "os.chdir(\"gdrive/MyDrive/yolov8\")"
      ]
    },
    {
      "cell_type": "code",
      "execution_count": null,
      "metadata": {
        "id": "dt8xB9irLSuc"
      },
      "outputs": [],
      "source": [
        "# Install YOLOv8\n",
        "%pip install ultralytics\n",
        "\n",
        "import ultralytics\n",
        "ultralytics.checks()"
      ]
    },
    {
      "cell_type": "markdown",
      "metadata": {
        "id": "7y_KfvSTRR1w"
      },
      "source": [
        "## Dataset"
      ]
    },
    {
      "cell_type": "code",
      "execution_count": null,
      "metadata": {
        "id": "2LvjWvqPLSxE"
      },
      "outputs": [],
      "source": [
        "# Check Dataset\n",
        "!ls data/"
      ]
    },
    {
      "cell_type": "code",
      "execution_count": null,
      "metadata": {
        "id": "Azh_AjP6LS0U"
      },
      "outputs": [],
      "source": [
        "# Unzip Dataset\n",
        "!unzip data/face_mask_dataset.zip -d ./data"
      ]
    },
    {
      "cell_type": "code",
      "execution_count": null,
      "metadata": {
        "id": "2SiPkJncRYkH"
      },
      "outputs": [],
      "source": [
        "# Check data folder\n",
        "%cd data\n",
        "\n",
        "!ls"
      ]
    },
    {
      "cell_type": "markdown",
      "metadata": {
        "id": "IugavTsoRa4m"
      },
      "source": [
        "## Data File"
      ]
    },
    {
      "cell_type": "code",
      "execution_count": null,
      "metadata": {
        "id": "mR3-rcICRdGv"
      },
      "outputs": [],
      "source": [
        "# Download sample data file\n",
        "!gdown https://drive.google.com/uc?id=1joW_me3Gtzxm4d48edbMsOpooV8snDdn"
      ]
    },
    {
      "cell_type": "code",
      "execution_count": null,
      "metadata": {
        "id": "OovawdgxRfY-"
      },
      "outputs": [],
      "source": [
        "# Rename sample data file\n",
        "import os\n",
        "os.rename(\"data.yaml\", \"face_mask.yaml\")\n",
        "\n",
        "!ls"
      ]
    },
    {
      "cell_type": "code",
      "execution_count": null,
      "metadata": {
        "id": "xUBTpG6HRhPp"
      },
      "outputs": [],
      "source": [
        "# Get Absolute Path\n",
        "import os\n",
        "\n",
        "print(os.getcwd())"
      ]
    },
    {
      "cell_type": "code",
      "execution_count": null,
      "metadata": {
        "id": "kryLc2CKRjMm"
      },
      "outputs": [],
      "source": [
        "# Back to root folder\n",
        "%cd ../"
      ]
    },
    {
      "cell_type": "markdown",
      "metadata": {
        "id": "Fgtz-scuRlM_"
      },
      "source": [
        "## Training Process"
      ]
    },
    {
      "cell_type": "code",
      "execution_count": null,
      "metadata": {
        "id": "KhNxw7I5RneM"
      },
      "outputs": [],
      "source": [
        "# Train\n",
        "!yolo detect train model=yolov8l.pt data=data/face_mask.yaml imgsz=640 workers=8 batch=8 device=0 epochs=300 patience=50 name=yolov8_face_mask  "
      ]
    },
    {
      "cell_type": "code",
      "execution_count": null,
      "metadata": {
        "id": "-G9SPpwwRp3a"
      },
      "outputs": [],
      "source": [
        "# See the accuracy\n",
        "%load_ext tensorboard\n",
        "\n",
        "%tensorboard --logdir runs/detect/yolov8_face_mask"
      ]
    },
    {
      "cell_type": "markdown",
      "metadata": {
        "id": "pYtsdKr1RsfU"
      },
      "source": [
        "## Continue Training"
      ]
    },
    {
      "cell_type": "code",
      "execution_count": null,
      "metadata": {
        "id": "ZOSV9O-ZRutR"
      },
      "outputs": [],
      "source": [
        "# Continue Train\n",
        "!yolo detect train model=runs/detect/yolov8_face_mask/weights/last.pt data=data/face_mask.yaml resume=True  "
      ]
    },
    {
      "cell_type": "code",
      "execution_count": null,
      "metadata": {
        "id": "Kni7KqCqRHOq"
      },
      "outputs": [],
      "source": [
        "# See the accuracy\n",
        "%load_ext tensorboard\n",
        "\n",
        "%tensorboard --logdir runs/detect/yolov8_face_mask"
      ]
    },
    {
      "cell_type": "markdown",
      "metadata": {
        "id": "UkLxvx41ittM"
      },
      "source": [
        "## Face Mask Detection"
      ]
    },
    {
      "cell_type": "code",
      "execution_count": null,
      "metadata": {
        "id": "Fle6wkfVjAiW"
      },
      "outputs": [],
      "source": [
        "# Go to inference folder and create a new folder\n",
        "%cd inference\n",
        "\n",
        "!mkdir face_mask"
      ]
    },
    {
      "cell_type": "code",
      "execution_count": null,
      "metadata": {
        "id": "PLuRbyS9jZt-"
      },
      "outputs": [],
      "source": [
        "# Go to face_mask folder\n",
        "%cd face_mask"
      ]
    },
    {
      "cell_type": "code",
      "execution_count": null,
      "metadata": {
        "id": "GDrPC_qlixM0"
      },
      "outputs": [],
      "source": [
        "# Download images\n",
        "!gdown https://drive.google.com/uc?id=1EMTORK8OZv51_n5PytQtrnS5bWlpc-fL\n",
        "!gdown https://drive.google.com/uc?id=1LI6rs-M9Mx9IjkOwe6-bGQXzB96jtJX6\n",
        "!gdown https://drive.google.com/uc?id=1lxO0o5O341pY4Jpgf1eIm6L0NlFInWr_"
      ]
    },
    {
      "cell_type": "code",
      "execution_count": null,
      "metadata": {
        "id": "tr_g2_xukh0L"
      },
      "outputs": [],
      "source": [
        "# Back to root folder\n",
        "%cd ../../"
      ]
    },
    {
      "cell_type": "code",
      "execution_count": null,
      "metadata": {
        "id": "KpYibq7wkItx"
      },
      "outputs": [],
      "source": [
        "# Face Mask Detection\n",
        "!yolo detect predict model=runs/detect/yolov8_face_mask/weights/best.pt source=\"inference/face_mask\" save=True"
      ]
    },
    {
      "cell_type": "code",
      "execution_count": null,
      "metadata": {
        "id": "qyjAmILfkHyV"
      },
      "outputs": [],
      "source": [
        "# Function to show Image\n",
        "import matplotlib.pyplot as plt\n",
        "import matplotlib.image as mpimg\n",
        "\n",
        "def showImage(path):\n",
        "  img = mpimg.imread(path)\n",
        "  plt.figure(figsize=(20,20))\n",
        "  plt.axis(\"off\")\n",
        "  plt.imshow(img)\n",
        "  plt.show()\n",
        "\n",
        "def showImagesOnFolder(path):\n",
        "  for file in os.listdir(path):    \n",
        "    if (file.endswith(\".png\") or file.endswith(\".jpg\")): \n",
        "      image_path = os.path.join(path, file)\n",
        "      showImage(image_path)"
      ]
    },
    {
      "cell_type": "code",
      "execution_count": null,
      "metadata": {
        "colab": {
          "background_save": true
        },
        "id": "QTHAQlLGm67V"
      },
      "outputs": [],
      "source": [
        "# Show All Detection Result \n",
        "showImagesOnFolder(\"runs/detect/predict5\")"
      ]
    }
  ],
  "metadata": {
    "accelerator": "GPU",
    "colab": {
      "provenance": []
    },
    "gpuClass": "standard",
    "kernelspec": {
      "display_name": "Python 3",
      "name": "python3"
    },
    "language_info": {
      "name": "python"
    }
  },
  "nbformat": 4,
  "nbformat_minor": 0
}